{
 "cells": [
  {
   "cell_type": "code",
   "execution_count": 18,
   "metadata": {},
   "outputs": [],
   "source": [
    "import pandas as pd\n",
    "import pickle\n",
    "import numpy as np\n",
    "import matplotlib.pyplot as plt\n",
    "from sklearn.metrics import (\n",
    "    confusion_matrix, classification_report,\n",
    "    roc_auc_score, roc_curve\n",
    ")\n",
    "from sklearn.ensemble import RandomForestClassifier\n",
    "from sklearn.model_selection import train_test_split\n",
    "from imblearn.over_sampling import SMOTE"
   ]
  },
  {
   "cell_type": "code",
   "execution_count": 72,
   "metadata": {},
   "outputs": [],
   "source": [
    "sampled_trips = pd.read_pickle('2023-citibike-tripdata/sampled_trips_main.pkl')"
   ]
  },
  {
   "cell_type": "markdown",
   "metadata": {},
   "source": [
    "## Data Prep"
   ]
  },
  {
   "cell_type": "code",
   "execution_count": 37,
   "metadata": {},
   "outputs": [],
   "source": [
    "# The below approaches did not help the model, so they are excluded\n",
    "\n",
    "# # calculate distance and bearing\n",
    "# def haversine_distance(lat1, lng1, lat2, lng2):\n",
    "#     R = 6371.0\n",
    "#     lat1_rad = np.radians(lat1)\n",
    "#     lat2_rad = np.radians(lat2)\n",
    "#     delta_lat = np.radians(lat2 - lat1)\n",
    "#     delta_lng = np.radians(lng2 - lng1)\n",
    "#     a = np.sin(delta_lat / 2.0)**2 + np.cos(lat1_rad) * np.cos(lat2_rad) * np.sin(delta_lng / 2.0)**2\n",
    "#     c = 2 * np.arcsin(np.sqrt(a))\n",
    "#     distance = R * c\n",
    "#     return distance\n",
    "\n",
    "# def calculate_initial_bearing(lat1, lng1, lat2, lng2):\n",
    "#     lat1_rad = np.radians(lat1)\n",
    "#     lat2_rad = np.radians(lat2)\n",
    "#     delta_lng = np.radians(lng2 - lng1)\n",
    "#     x = np.sin(delta_lng) * np.cos(lat2_rad)\n",
    "#     y = np.cos(lat1_rad) * np.sin(lat2_rad) - np.sin(lat1_rad) * np.cos(lat2_rad) * np.cos(delta_lng)\n",
    "#     bearing = np.degrees(np.arctan2(x, y))\n",
    "#     bearing = (bearing + 360) % 360\n",
    "#     return bearing"
   ]
  },
  {
   "cell_type": "code",
   "execution_count": 73,
   "metadata": {},
   "outputs": [
    {
     "name": "stderr",
     "output_type": "stream",
     "text": [
      "/var/folders/4p/cnm8c74x2cscn3bny0pr_bvr0000gn/T/ipykernel_73904/1477738300.py:8: SettingWithCopyWarning: \n",
      "A value is trying to be set on a copy of a slice from a DataFrame.\n",
      "Try using .loc[row_indexer,col_indexer] = value instead\n",
      "\n",
      "See the caveats in the documentation: https://pandas.pydata.org/pandas-docs/stable/user_guide/indexing.html#returning-a-view-versus-a-copy\n",
      "  X['start_grid_lat_idx'] = sampled_trips['start_lat_idx']\n",
      "/var/folders/4p/cnm8c74x2cscn3bny0pr_bvr0000gn/T/ipykernel_73904/1477738300.py:9: SettingWithCopyWarning: \n",
      "A value is trying to be set on a copy of a slice from a DataFrame.\n",
      "Try using .loc[row_indexer,col_indexer] = value instead\n",
      "\n",
      "See the caveats in the documentation: https://pandas.pydata.org/pandas-docs/stable/user_guide/indexing.html#returning-a-view-versus-a-copy\n",
      "  X['start_grid_lng_idx'] = sampled_trips['start_lng_idx']\n",
      "/var/folders/4p/cnm8c74x2cscn3bny0pr_bvr0000gn/T/ipykernel_73904/1477738300.py:10: SettingWithCopyWarning: \n",
      "A value is trying to be set on a copy of a slice from a DataFrame.\n",
      "Try using .loc[row_indexer,col_indexer] = value instead\n",
      "\n",
      "See the caveats in the documentation: https://pandas.pydata.org/pandas-docs/stable/user_guide/indexing.html#returning-a-view-versus-a-copy\n",
      "  X['end_grid_lat_idx'] = sampled_trips['end_lat_idx']\n",
      "/var/folders/4p/cnm8c74x2cscn3bny0pr_bvr0000gn/T/ipykernel_73904/1477738300.py:11: SettingWithCopyWarning: \n",
      "A value is trying to be set on a copy of a slice from a DataFrame.\n",
      "Try using .loc[row_indexer,col_indexer] = value instead\n",
      "\n",
      "See the caveats in the documentation: https://pandas.pydata.org/pandas-docs/stable/user_guide/indexing.html#returning-a-view-versus-a-copy\n",
      "  X['end_grid_lng_idx'] = sampled_trips['end_lng_idx']\n"
     ]
    }
   ],
   "source": [
    "# features and target\n",
    "X = sampled_trips[['start_lat', 'start_lng', 'end_lat', 'end_lng']]\n",
    "y = sampled_trips['contains_target_street']\n",
    "\n",
    "#X['bearing'] = calculate_initial_bearing(X['start_lat'], X['start_lng'], X['end_lat'], X['end_lng'])\n",
    "\n",
    "# include grid indices\n",
    "X['start_grid_lat_idx'] = sampled_trips['start_lat_idx']\n",
    "X['start_grid_lng_idx'] = sampled_trips['start_lng_idx']\n",
    "X['end_grid_lat_idx'] = sampled_trips['end_lat_idx']\n",
    "X['end_grid_lng_idx'] = sampled_trips['end_lng_idx']\n",
    "\n",
    "# Final feature set\n",
    "feature_columns = [\n",
    "    'start_lat', 'end_lat', \n",
    "    'end_lng','start_lng',\n",
    "    #'start_grid_lat_idx',\n",
    "    #'end_grid_lat_idx', \n",
    "]\n",
    "X = X[feature_columns]\n",
    "\n",
    "# handle missing values\n",
    "X = X.dropna()\n",
    "y = y[X.index]\n",
    "y = y.astype(bool)"
   ]
  },
  {
   "cell_type": "markdown",
   "metadata": {},
   "source": [
    "## Split and sample underrepresented data"
   ]
  },
  {
   "cell_type": "code",
   "execution_count": 74,
   "metadata": {},
   "outputs": [],
   "source": [
    "X_train, X_test, y_train, y_test = train_test_split(\n",
    "    X, y, test_size=0.2, random_state=42, stratify=y\n",
    ")\n",
    "\n",
    "smote = SMOTE(k_neighbors=3, random_state=42)\n",
    "X_train_resampled, y_train_resampled = smote.fit_resample(X_train, y_train)"
   ]
  },
  {
   "cell_type": "markdown",
   "metadata": {},
   "source": [
    "## Train model"
   ]
  },
  {
   "cell_type": "code",
   "execution_count": 75,
   "metadata": {},
   "outputs": [
    {
     "data": {
      "text/html": [
       "<style>#sk-container-id-3 {color: black;background-color: white;}#sk-container-id-3 pre{padding: 0;}#sk-container-id-3 div.sk-toggleable {background-color: white;}#sk-container-id-3 label.sk-toggleable__label {cursor: pointer;display: block;width: 100%;margin-bottom: 0;padding: 0.3em;box-sizing: border-box;text-align: center;}#sk-container-id-3 label.sk-toggleable__label-arrow:before {content: \"▸\";float: left;margin-right: 0.25em;color: #696969;}#sk-container-id-3 label.sk-toggleable__label-arrow:hover:before {color: black;}#sk-container-id-3 div.sk-estimator:hover label.sk-toggleable__label-arrow:before {color: black;}#sk-container-id-3 div.sk-toggleable__content {max-height: 0;max-width: 0;overflow: hidden;text-align: left;background-color: #f0f8ff;}#sk-container-id-3 div.sk-toggleable__content pre {margin: 0.2em;color: black;border-radius: 0.25em;background-color: #f0f8ff;}#sk-container-id-3 input.sk-toggleable__control:checked~div.sk-toggleable__content {max-height: 200px;max-width: 100%;overflow: auto;}#sk-container-id-3 input.sk-toggleable__control:checked~label.sk-toggleable__label-arrow:before {content: \"▾\";}#sk-container-id-3 div.sk-estimator input.sk-toggleable__control:checked~label.sk-toggleable__label {background-color: #d4ebff;}#sk-container-id-3 div.sk-label input.sk-toggleable__control:checked~label.sk-toggleable__label {background-color: #d4ebff;}#sk-container-id-3 input.sk-hidden--visually {border: 0;clip: rect(1px 1px 1px 1px);clip: rect(1px, 1px, 1px, 1px);height: 1px;margin: -1px;overflow: hidden;padding: 0;position: absolute;width: 1px;}#sk-container-id-3 div.sk-estimator {font-family: monospace;background-color: #f0f8ff;border: 1px dotted black;border-radius: 0.25em;box-sizing: border-box;margin-bottom: 0.5em;}#sk-container-id-3 div.sk-estimator:hover {background-color: #d4ebff;}#sk-container-id-3 div.sk-parallel-item::after {content: \"\";width: 100%;border-bottom: 1px solid gray;flex-grow: 1;}#sk-container-id-3 div.sk-label:hover label.sk-toggleable__label {background-color: #d4ebff;}#sk-container-id-3 div.sk-serial::before {content: \"\";position: absolute;border-left: 1px solid gray;box-sizing: border-box;top: 0;bottom: 0;left: 50%;z-index: 0;}#sk-container-id-3 div.sk-serial {display: flex;flex-direction: column;align-items: center;background-color: white;padding-right: 0.2em;padding-left: 0.2em;position: relative;}#sk-container-id-3 div.sk-item {position: relative;z-index: 1;}#sk-container-id-3 div.sk-parallel {display: flex;align-items: stretch;justify-content: center;background-color: white;position: relative;}#sk-container-id-3 div.sk-item::before, #sk-container-id-3 div.sk-parallel-item::before {content: \"\";position: absolute;border-left: 1px solid gray;box-sizing: border-box;top: 0;bottom: 0;left: 50%;z-index: -1;}#sk-container-id-3 div.sk-parallel-item {display: flex;flex-direction: column;z-index: 1;position: relative;background-color: white;}#sk-container-id-3 div.sk-parallel-item:first-child::after {align-self: flex-end;width: 50%;}#sk-container-id-3 div.sk-parallel-item:last-child::after {align-self: flex-start;width: 50%;}#sk-container-id-3 div.sk-parallel-item:only-child::after {width: 0;}#sk-container-id-3 div.sk-dashed-wrapped {border: 1px dashed gray;margin: 0 0.4em 0.5em 0.4em;box-sizing: border-box;padding-bottom: 0.4em;background-color: white;}#sk-container-id-3 div.sk-label label {font-family: monospace;font-weight: bold;display: inline-block;line-height: 1.2em;}#sk-container-id-3 div.sk-label-container {text-align: center;}#sk-container-id-3 div.sk-container {/* jupyter's `normalize.less` sets `[hidden] { display: none; }` but bootstrap.min.css set `[hidden] { display: none !important; }` so we also need the `!important` here to be able to override the default hidden behavior on the sphinx rendered scikit-learn.org. See: https://github.com/scikit-learn/scikit-learn/issues/21755 */display: inline-block !important;position: relative;}#sk-container-id-3 div.sk-text-repr-fallback {display: none;}</style><div id=\"sk-container-id-3\" class=\"sk-top-container\"><div class=\"sk-text-repr-fallback\"><pre>RandomForestClassifier(class_weight=&#x27;balanced&#x27;, n_estimators=500, n_jobs=4,\n",
       "                       random_state=42)</pre><b>In a Jupyter environment, please rerun this cell to show the HTML representation or trust the notebook. <br />On GitHub, the HTML representation is unable to render, please try loading this page with nbviewer.org.</b></div><div class=\"sk-container\" hidden><div class=\"sk-item\"><div class=\"sk-estimator sk-toggleable\"><input class=\"sk-toggleable__control sk-hidden--visually\" id=\"sk-estimator-id-3\" type=\"checkbox\" checked><label for=\"sk-estimator-id-3\" class=\"sk-toggleable__label sk-toggleable__label-arrow\">RandomForestClassifier</label><div class=\"sk-toggleable__content\"><pre>RandomForestClassifier(class_weight=&#x27;balanced&#x27;, n_estimators=500, n_jobs=4,\n",
       "                       random_state=42)</pre></div></div></div></div></div>"
      ],
      "text/plain": [
       "RandomForestClassifier(class_weight='balanced', n_estimators=500, n_jobs=4,\n",
       "                       random_state=42)"
      ]
     },
     "execution_count": 75,
     "metadata": {},
     "output_type": "execute_result"
    }
   ],
   "source": [
    "rf_model = RandomForestClassifier(\n",
    "    n_estimators=500,\n",
    "    max_depth=None,\n",
    "    min_samples_split=2,\n",
    "    random_state=42,\n",
    "    n_jobs=4,\n",
    "    class_weight='balanced'\n",
    ")\n",
    "rf_model.fit(X_train_resampled, y_train_resampled)"
   ]
  },
  {
   "cell_type": "markdown",
   "metadata": {},
   "source": [
    "## Eval"
   ]
  },
  {
   "cell_type": "code",
   "execution_count": 76,
   "metadata": {},
   "outputs": [
    {
     "name": "stdout",
     "output_type": "stream",
     "text": [
      "Confusion Matrix:\n",
      "[[35779   123]\n",
      " [   45  1485]]\n",
      "\n",
      "Classification Report:\n",
      "              precision    recall  f1-score   support\n",
      "\n",
      "       False     0.9987    0.9966    0.9977     35902\n",
      "        True     0.9235    0.9706    0.9465      1530\n",
      "\n",
      "    accuracy                         0.9955     37432\n",
      "   macro avg     0.9611    0.9836    0.9721     37432\n",
      "weighted avg     0.9957    0.9955    0.9956     37432\n",
      "\n",
      "ROC AUC Score: 0.9996\n"
     ]
    },
    {
     "data": {
      "image/png": "[encoded data removed]",
      "text/plain": [
       "<Figure size 640x480 with 1 Axes>"
      ]
     },
     "metadata": {},
     "output_type": "display_data"
    }
   ],
   "source": [
    "y_pred = rf_model.predict(X_test)\n",
    "y_proba = rf_model.predict_proba(X_test)[:, 1]\n",
    "\n",
    "print(\"Confusion Matrix:\")\n",
    "print(confusion_matrix(y_test, y_pred))\n",
    "\n",
    "print(\"\\nClassification Report:\")\n",
    "print(classification_report(y_test, y_pred, digits=4))\n",
    "\n",
    "roc_auc = roc_auc_score(y_test, y_proba)\n",
    "print(f\"ROC AUC Score: {roc_auc:.4f}\")\n",
    "\n",
    "fpr, tpr, thresholds = roc_curve(y_test, y_proba)\n",
    "plt.figure()\n",
    "plt.plot(fpr, tpr, label=f\"ROC Curve (area = {roc_auc:.4f})\")\n",
    "plt.plot([0, 1], [0, 1], 'k--')\n",
    "plt.xlabel(\"False Positive Rate\")\n",
    "plt.ylabel(\"True Positive Rate\")\n",
    "plt.title(\"Receiver Operating Characteristic (ROC)\")\n",
    "plt.legend(loc=\"lower right\")\n",
    "plt.show()"
   ]
  },
  {
   "cell_type": "code",
   "execution_count": 33,
   "metadata": {},
   "outputs": [
    {
     "name": "stdout",
     "output_type": "stream",
     "text": [
      "\n",
      "Feature Importances:\n",
      "     feature  importance\n",
      "1    end_lat    0.477460\n",
      "0  start_lat    0.294520\n",
      "2    end_lng    0.127913\n",
      "3  start_lng    0.100107\n"
     ]
    },
    {
     "data": {
      "image/png": "[encoded data removed]",
      "text/plain": [
       "<Figure size 1000x600 with 1 Axes>"
      ]
     },
     "metadata": {},
     "output_type": "display_data"
    }
   ],
   "source": [
    "importances = rf_model.feature_importances_\n",
    "feature_names = X.columns\n",
    "feature_importances = pd.DataFrame({\n",
    "    'feature': feature_names,\n",
    "    'importance': importances\n",
    "}).sort_values(by='importance', ascending=False)\n",
    "\n",
    "print(\"\\nFeature Importances:\")\n",
    "print(feature_importances)\n",
    "\n",
    "plt.figure(figsize=(10, 6))\n",
    "plt.barh(feature_importances['feature'], feature_importances['importance'])\n",
    "plt.xlabel('Importance')\n",
    "plt.title('Feature Importances')\n",
    "plt.gca().invert_yaxis()\n",
    "plt.show()"
   ]
  },
  {
   "cell_type": "code",
   "execution_count": 78,
   "metadata": {},
   "outputs": [],
   "source": [
    "# save model\n",
    "model_filename = 'rf_model.pkl'\n",
    "with open(model_filename, 'wb') as file:\n",
    "    pickle.dump(rf_model, file)\n",
    "\n",
    "sampled_trips.to_pickle('2023-citibike-tripdata/sampled_trips_main.pkl')\n"
   ]
  },
  {
   "cell_type": "markdown",
   "metadata": {},
   "source": [
    "## Predict"
   ]
  },
  {
   "cell_type": "code",
   "execution_count": 35,
   "metadata": {},
   "outputs": [],
   "source": [
    "unique_trips = pd.read_pickle('2023-citibike-tripdata/unique_trips.pkl')\n",
    "df = pd.read_pickle('2023-citibike-tripdata/2023_data.pkl')"
   ]
  },
  {
   "cell_type": "code",
   "execution_count": 79,
   "metadata": {},
   "outputs": [],
   "source": [
    "X_full = unique_trips[feature_columns]\n",
    "\n",
    "predictions = rf_model.predict(X_full)\n",
    "probabilities = rf_model.predict_proba(X_full)[:, 1]\n",
    "\n",
    "unique_trips['model_prediction'] = predictions\n",
    "unique_trips['model_proba'] = probabilities"
   ]
  },
  {
   "cell_type": "code",
   "execution_count": null,
   "metadata": {},
   "outputs": [],
   "source": [
    "import matplotlib.pyplot as plt\n",
    "\n",
    "# Create a figure and axes\n",
    "fig, ax = plt.subplots(figsize=(12, 8))\n",
    "\n",
    "# Plot start points\n",
    "ax.scatter(\n",
    "    unique_trips['start_lng'],\n",
    "    unique_trips['start_lat'],\n",
    "    c=unique_trips['model_prediction'].map({True: 'green', False: 'lightblue'}),\n",
    "    alpha=0.5,\n",
    "    label='Start Points',\n",
    "    marker='o'\n",
    ")\n",
    "\n",
    "# Plot end points\n",
    "ax.scatter(\n",
    "    unique_trips['end_lng'],\n",
    "    unique_trips['end_lat'],\n",
    "    c=unique_trips['model_prediction'].map({True: 'green', False: 'lightblue'}),\n",
    "    alpha=0.5,\n",
    "    label='End Points',\n",
    "    marker='^'\n",
    ")\n",
    "\n",
    "# Set labels and title\n",
    "ax.set_xlabel('Longitude')\n",
    "ax.set_ylabel('Latitude')\n",
    "ax.set_title('Start and End Points Colored by Model Prediction')\n",
    "\n",
    "# Create custom legend\n",
    "import matplotlib.patches as mpatches\n",
    "\n",
    "start_green = mpatches.Patch(color='green', label='Start Point - Predicted True')\n",
    "start_blue = mpatches.Patch(color='blue', label='Start Point - Predicted False')\n",
    "end_green = mpatches.Patch(color='lightgreen', label='End Point - Predicted True')\n",
    "end_blue = mpatches.Patch(color='lightblue', label='End Point - Predicted False')\n",
    "\n",
    "ax.legend(handles=[start_green, start_blue, end_green, end_blue], loc='upper right')\n",
    "\n",
    "# Show the plot\n",
    "plt.show()\n"
   ]
  },
  {
   "cell_type": "code",
   "execution_count": 80,
   "metadata": {},
   "outputs": [
    {
     "data": {
      "text/html": [
       "<div>\n",
       "<style scoped>\n",
       "    .dataframe tbody tr th:only-of-type {\n",
       "        vertical-align: middle;\n",
       "    }\n",
       "\n",
       "    .dataframe tbody tr th {\n",
       "        vertical-align: top;\n",
       "    }\n",
       "\n",
       "    .dataframe thead th {\n",
       "        text-align: right;\n",
       "    }\n",
       "</style>\n",
       "<table border=\"1\" class=\"dataframe\">\n",
       "  <thead>\n",
       "    <tr style=\"text-align: right;\">\n",
       "      <th></th>\n",
       "      <th>start_station_id</th>\n",
       "      <th>end_station_id</th>\n",
       "      <th>start_lat</th>\n",
       "      <th>start_lng</th>\n",
       "      <th>end_lat</th>\n",
       "      <th>end_lng</th>\n",
       "      <th>model_prediction</th>\n",
       "      <th>model_proba</th>\n",
       "    </tr>\n",
       "  </thead>\n",
       "  <tbody>\n",
       "    <tr>\n",
       "      <th>0</th>\n",
       "      <td>5712.12</td>\n",
       "      <td>5270.07</td>\n",
       "      <td>40.727690</td>\n",
       "      <td>-73.990993</td>\n",
       "      <td>40.715815</td>\n",
       "      <td>-73.994224</td>\n",
       "      <td>False</td>\n",
       "      <td>0.0</td>\n",
       "    </tr>\n",
       "    <tr>\n",
       "      <th>1</th>\n",
       "      <td>5743.02</td>\n",
       "      <td>5743.02</td>\n",
       "      <td>40.729840</td>\n",
       "      <td>-73.948390</td>\n",
       "      <td>40.729840</td>\n",
       "      <td>-73.948390</td>\n",
       "      <td>False</td>\n",
       "      <td>0.0</td>\n",
       "    </tr>\n",
       "    <tr>\n",
       "      <th>2</th>\n",
       "      <td>5379.10</td>\n",
       "      <td>5379.10</td>\n",
       "      <td>40.717361</td>\n",
       "      <td>-73.958464</td>\n",
       "      <td>40.717452</td>\n",
       "      <td>-73.958509</td>\n",
       "      <td>False</td>\n",
       "      <td>0.0</td>\n",
       "    </tr>\n",
       "    <tr>\n",
       "      <th>3</th>\n",
       "      <td>5473.06</td>\n",
       "      <td>5291.05</td>\n",
       "      <td>40.667430</td>\n",
       "      <td>-73.934199</td>\n",
       "      <td>40.715143</td>\n",
       "      <td>-73.944507</td>\n",
       "      <td>False</td>\n",
       "      <td>0.0</td>\n",
       "    </tr>\n",
       "    <tr>\n",
       "      <th>4</th>\n",
       "      <td>6257.03</td>\n",
       "      <td>6140.05</td>\n",
       "      <td>40.744876</td>\n",
       "      <td>-73.995299</td>\n",
       "      <td>40.741740</td>\n",
       "      <td>-73.994156</td>\n",
       "      <td>False</td>\n",
       "      <td>0.0</td>\n",
       "    </tr>\n",
       "  </tbody>\n",
       "</table>\n",
       "</div>"
      ],
      "text/plain": [
       "   start_station_id  end_station_id  start_lat  start_lng    end_lat  \\\n",
       "0           5712.12         5270.07  40.727690 -73.990993  40.715815   \n",
       "1           5743.02         5743.02  40.729840 -73.948390  40.729840   \n",
       "2           5379.10         5379.10  40.717361 -73.958464  40.717452   \n",
       "3           5473.06         5291.05  40.667430 -73.934199  40.715143   \n",
       "4           6257.03         6140.05  40.744876 -73.995299  40.741740   \n",
       "\n",
       "     end_lng  model_prediction  model_proba  \n",
       "0 -73.994224             False          0.0  \n",
       "1 -73.948390             False          0.0  \n",
       "2 -73.958509             False          0.0  \n",
       "3 -73.944507             False          0.0  \n",
       "4 -73.994156             False          0.0  "
      ]
     },
     "execution_count": 80,
     "metadata": {},
     "output_type": "execute_result"
    }
   ],
   "source": [
    "unique_trips.head()"
   ]
  },
  {
   "cell_type": "code",
   "execution_count": 81,
   "metadata": {},
   "outputs": [],
   "source": [
    "merged = df.merge(unique_trips[['start_station_id','end_station_id','model_prediction']], on=['start_station_id','end_station_id'], how='left')"
   ]
  },
  {
   "cell_type": "code",
   "execution_count": 84,
   "metadata": {},
   "outputs": [],
   "source": [
    "# we need to convert from citibike trips to total bike trips via the ratio of the two\n",
    "# citibike source: https://www.nyc.gov/html/dot/downloads/pdf/bike-share-usage-data-report-q2-2024.pdf\n",
    "# total bike source: https://www.nyc.gov/html/dot/html/bicyclists/cyclinginthecity.shtml\n",
    "\n",
    "citibike_trips = 29.8e6 #\n",
    "total_bike_trips = 222.7e6 # 2022\n",
    "bike_ratio = total_bike_trips / citibike_trips\n",
    "\n",
    "citibike_trips_on_target_streets = (merged['model_prediction']==True).sum()\n",
    "total_trips_on_target_streets = citibike_trips_on_target_streets*bike_ratio"
   ]
  },
  {
   "cell_type": "code",
   "execution_count": 85,
   "metadata": {},
   "outputs": [
    {
     "name": "stdout",
     "output_type": "stream",
     "text": [
      "Trips per day: 15704\n"
     ]
    }
   ],
   "source": [
    "print(f'Trips per day: {total_trips_on_target_streets/365:.0f}')"
   ]
  },
  {
   "cell_type": "code",
   "execution_count": null,
   "metadata": {},
   "outputs": [],
   "source": []
  }
 ],
 "metadata": {
  "kernelspec": {
   "display_name": "dean_bergen",
   "language": "python",
   "name": "python3"
  },
  "language_info": {
   "codemirror_mode": {
    "name": "ipython",
    "version": 3
   },
   "file_extension": ".py",
   "mimetype": "text/x-python",
   "name": "python",
   "nbconvert_exporter": "python",
   "pygments_lexer": "ipython3",
   "version": "3.9.17"
  }
 },
 "nbformat": 4,
 "nbformat_minor": 2
}
